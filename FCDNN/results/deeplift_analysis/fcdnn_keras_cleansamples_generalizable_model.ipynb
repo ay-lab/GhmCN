{
 "cells": [
  {
   "cell_type": "markdown",
   "metadata": {},
   "source": [
    "# `Combined` Model generalizable\n",
    "\n",
    "Generate another combined model but exclude 10 samples from training such that we get a set of totally unseen data"
   ]
  },
  {
   "cell_type": "code",
   "execution_count": 1,
   "metadata": {},
   "outputs": [],
   "source": [
    "# Sconda conda activate tensorflow2; cd /mnt/BioAdHoc/Groups/RaoLab/Edahi/Projects/09.TimeCourse5hmC/ForFerhatGit/FCDNN/results/deeplift_analysis/; python"
   ]
  },
  {
   "cell_type": "code",
   "execution_count": 2,
   "metadata": {},
   "outputs": [],
   "source": [
    "%load_ext lab_black"
   ]
  },
  {
   "cell_type": "code",
   "execution_count": 3,
   "metadata": {},
   "outputs": [
    {
     "data": {
      "text/plain": [
       "'2.4.0'"
      ]
     },
     "execution_count": 3,
     "metadata": {},
     "output_type": "execute_result"
    }
   ],
   "source": [
    "import tensorflow\n",
    "\n",
    "tensorflow.__version__"
   ]
  },
  {
   "cell_type": "code",
   "execution_count": 12,
   "metadata": {},
   "outputs": [],
   "source": [
    "import numpy as np\n",
    "import pandas as pd\n",
    "import matplotlib.pyplot as plt\n",
    "import json\n",
    "import os\n",
    "from sklearn.metrics import (\n",
    "    precision_score,\n",
    "    recall_score,\n",
    "    f1_score,\n",
    "    roc_curve,\n",
    "    roc_auc_score,\n",
    ")\n",
    "import seaborn as sns\n",
    "from tensorflow.keras.models import Sequential\n",
    "from tensorflow.keras.layers import (\n",
    "    Dense,\n",
    "    Dropout,\n",
    ")\n",
    "from tensorflow.keras.initializers import GlorotUniform\n",
    "\n",
    "from tensorflow.keras.optimizers import Adam\n",
    "from keras.models import model_from_json\n",
    "from keras import backend as K\n",
    "\n",
    "import sys\n",
    "import pkg_resources\n",
    "import random"
   ]
  },
  {
   "cell_type": "markdown",
   "metadata": {},
   "source": [
    "## Declare some constants"
   ]
  },
  {
   "cell_type": "code",
   "execution_count": 5,
   "metadata": {},
   "outputs": [
    {
     "data": {
      "text/plain": [
       "'generalizable_model'"
      ]
     },
     "execution_count": 5,
     "metadata": {},
     "output_type": "execute_result"
    }
   ],
   "source": [
    "train = True\n",
    "model_name = \"Generalizable Model\"\n",
    "model_name_file = model_name.lower().replace(\" \", \"_\")\n",
    "keras_model_json = f\"./{model_name_file}_model.json\"\n",
    "keras_model_weights = f\"./{model_name_file}_weights.h5\"\n",
    "OutputLayer = \"sigmoid\"\n",
    "model_name_file"
   ]
  },
  {
   "cell_type": "markdown",
   "metadata": {},
   "source": [
    "### Loading Datasets"
   ]
  },
  {
   "cell_type": "code",
   "execution_count": 6,
   "metadata": {},
   "outputs": [
    {
     "name": "stdout",
     "output_type": "stream",
     "text": [
      "\n",
      "samples: 49\n",
      "X shape: (230, 1063153)\n",
      "Y shape: (1063153,)\n",
      "M shape: (1063153, 6)\n",
      "\n"
     ]
    }
   ],
   "source": [
    "x_all_data = np.load(\n",
    "    \"/mnt/BioAdHoc/Groups/RaoLab/Edahi/Projects/09.TimeCourse5hmC/ForFerhatGit/FCDNN/data/C2B_Merged/CleanSamples_x.npy\"\n",
    ")\n",
    "y_all_data = np.load(\n",
    "    \"/mnt/BioAdHoc/Groups/RaoLab/Edahi/Projects/09.TimeCourse5hmC/ForFerhatGit/FCDNN/data/C2B_Merged/CleanSamples_y.npy\"\n",
    ")\n",
    "m_all_data = pd.read_parquet(\n",
    "    \"/mnt/BioAdHoc/Groups/RaoLab/Edahi/Projects/09.TimeCourse5hmC/ForFerhatGit/FCDNN/data/C2B_Merged/CleanSamples_m.parquet\"\n",
    ")\n",
    "sample_names = pd.read_csv(\n",
    "    \"/mnt/BioAdHoc/Groups/RaoLab/Edahi/Projects/09.TimeCourse5hmC/ForFerhatGit/FCDNN/filtered_files_surnames.csv\",\n",
    "    header=None,\n",
    ")[7].tolist()\n",
    "\n",
    "samples_in_dataset = int(m_all_data.groupby(\"gene\").size().mean())\n",
    "assert m_all_data.shape[0] == x_all_data.shape[1] == y_all_data.shape[0]\n",
    "assert samples_in_dataset == len(sample_names)\n",
    "\n",
    "print(\n",
    "    f\"\"\"\n",
    "samples: {len(sample_names)}\n",
    "X shape: {x_all_data.shape}\n",
    "Y shape: {y_all_data.shape}\n",
    "M shape: {m_all_data.shape}\n",
    "\"\"\"\n",
    ")"
   ]
  },
  {
   "cell_type": "code",
   "execution_count": 7,
   "metadata": {},
   "outputs": [
    {
     "data": {
      "text/html": [
       "<div>\n",
       "<style scoped>\n",
       "    .dataframe tbody tr th:only-of-type {\n",
       "        vertical-align: middle;\n",
       "    }\n",
       "\n",
       "    .dataframe tbody tr th {\n",
       "        vertical-align: top;\n",
       "    }\n",
       "\n",
       "    .dataframe thead th {\n",
       "        text-align: right;\n",
       "    }\n",
       "</style>\n",
       "<table border=\"1\" class=\"dataframe\">\n",
       "  <thead>\n",
       "    <tr style=\"text-align: right;\">\n",
       "      <th></th>\n",
       "      <th>gene</th>\n",
       "      <th>category</th>\n",
       "      <th>binary_category</th>\n",
       "      <th>chr</th>\n",
       "      <th>order</th>\n",
       "      <th>tpm</th>\n",
       "      <th>sample_name</th>\n",
       "    </tr>\n",
       "  </thead>\n",
       "  <tbody>\n",
       "    <tr>\n",
       "      <th>0</th>\n",
       "      <td>Baat</td>\n",
       "      <td>Low</td>\n",
       "      <td>0</td>\n",
       "      <td>chr4</td>\n",
       "      <td>1</td>\n",
       "      <td>0.000000</td>\n",
       "      <td>mm10_Bcell_Activated_24_Rep1</td>\n",
       "    </tr>\n",
       "    <tr>\n",
       "      <th>1</th>\n",
       "      <td>Hyi</td>\n",
       "      <td>High</td>\n",
       "      <td>1</td>\n",
       "      <td>chr4</td>\n",
       "      <td>2</td>\n",
       "      <td>8.015400</td>\n",
       "      <td>mm10_Bcell_Activated_24_Rep1</td>\n",
       "    </tr>\n",
       "    <tr>\n",
       "      <th>2</th>\n",
       "      <td>Akirin1</td>\n",
       "      <td>High</td>\n",
       "      <td>1</td>\n",
       "      <td>chr4</td>\n",
       "      <td>3</td>\n",
       "      <td>50.077466</td>\n",
       "      <td>mm10_Bcell_Activated_24_Rep1</td>\n",
       "    </tr>\n",
       "    <tr>\n",
       "      <th>3</th>\n",
       "      <td>Lrrc69</td>\n",
       "      <td>Low</td>\n",
       "      <td>0</td>\n",
       "      <td>chr4</td>\n",
       "      <td>4</td>\n",
       "      <td>0.000000</td>\n",
       "      <td>mm10_Bcell_Activated_24_Rep1</td>\n",
       "    </tr>\n",
       "    <tr>\n",
       "      <th>4</th>\n",
       "      <td>Fam159a</td>\n",
       "      <td>Low</td>\n",
       "      <td>0</td>\n",
       "      <td>chr4</td>\n",
       "      <td>5</td>\n",
       "      <td>0.000000</td>\n",
       "      <td>mm10_Bcell_Activated_24_Rep1</td>\n",
       "    </tr>\n",
       "  </tbody>\n",
       "</table>\n",
       "</div>"
      ],
      "text/plain": [
       "      gene category  binary_category   chr  order        tpm  \\\n",
       "0     Baat      Low                0  chr4      1   0.000000   \n",
       "1      Hyi     High                1  chr4      2   8.015400   \n",
       "2  Akirin1     High                1  chr4      3  50.077466   \n",
       "3   Lrrc69      Low                0  chr4      4   0.000000   \n",
       "4  Fam159a      Low                0  chr4      5   0.000000   \n",
       "\n",
       "                    sample_name  \n",
       "0  mm10_Bcell_Activated_24_Rep1  \n",
       "1  mm10_Bcell_Activated_24_Rep1  \n",
       "2  mm10_Bcell_Activated_24_Rep1  \n",
       "3  mm10_Bcell_Activated_24_Rep1  \n",
       "4  mm10_Bcell_Activated_24_Rep1  "
      ]
     },
     "execution_count": 7,
     "metadata": {},
     "output_type": "execute_result"
    }
   ],
   "source": [
    "genes_per_sample = m_all_data.shape[0] // samples_in_dataset\n",
    "m_all_data[\"sample_name\"] = [x for x in sample_names for _ in range(genes_per_sample)]\n",
    "m_all_data.head()"
   ]
  },
  {
   "cell_type": "code",
   "execution_count": 8,
   "metadata": {},
   "outputs": [],
   "source": [
    "# randomly select 10 samples to exclude\n",
    "excluded_samples = random.sample(sample_names, 10)\n",
    "# excluded_samples = [\n",
    "#     \"mm10_WholeBrain_Rep1\",\n",
    "#     \"mm10_iNK_T_Cell_Rep2\",\n",
    "#     \"mm10_E14_mESC_Rep3\",\n",
    "#     \"mm10_E13_Frontal_Cortex_Rep1\",\n",
    "#     \"mm10_V6.5_mESC_Rep10\",\n",
    "#     \"mm10_Naive_T_Cell_Rep2\",\n",
    "#     \"mm10_CD4_SinglePositive_Tcell_Rep1\",\n",
    "#     \"mm10_MEF_Rep3\",\n",
    "#     \"mm10_Hematopoietic_Stem_Cells_Rep1\",\n",
    "#     \"mm10_Regulatory_T_Cell_Rep2\",\n",
    "# ]"
   ]
  },
  {
   "cell_type": "code",
   "execution_count": 9,
   "metadata": {},
   "outputs": [],
   "source": [
    "# randomly select 2 chromosomes to exclude\n",
    "# 1 for developing model\n",
    "# 1 for testing in unseen data\n",
    "sex_chr = [\"chrY\", \"chrX\"]\n",
    "excluded_chrom = random.sample(\n",
    "    list(set(m_all_data.chr.unique().tolist()) - set(sex_chr)), 2\n",
    ")\n",
    "# excluded_chrom = [\"chr14\", \"chr16\"]"
   ]
  },
  {
   "cell_type": "code",
   "execution_count": 9,
   "metadata": {},
   "outputs": [],
   "source": [
    "# Generate the used data subset\n",
    "# Generate the training, Dev, and test from data subset\n",
    "# testing flag: samples excluded + chr for testing\n",
    "# dev flag: samples included + chr for dev\n",
    "# train flag: samples included + chr not for dev/test\n",
    "excluded_samples_mask = m_all_data.sample_name.isin(excluded_samples)\n",
    "chr_dev_mask = m_all_data.chr.isin([excluded_chrom[0]])\n",
    "chr_test_mask = m_all_data.chr.isin([excluded_chrom[1]])\n",
    "chr_train_mask = ~m_all_data.chr.isin(excluded_chrom)\n",
    "\n",
    "test_mask = excluded_samples_mask & chr_test_mask\n",
    "dev_mask = (~excluded_samples_mask) & chr_dev_mask\n",
    "train_mask = (~excluded_samples_mask) & chr_train_mask"
   ]
  },
  {
   "cell_type": "code",
   "execution_count": 10,
   "metadata": {},
   "outputs": [],
   "source": [
    "# Assert no overlapping masks\n",
    "assert sum((test_mask & dev_mask) & train_mask) == 0\n",
    "\n",
    "# Assert chromosome masks make sense\n",
    "assert all(chr_dev_mask | chr_test_mask | chr_train_mask)"
   ]
  },
  {
   "cell_type": "code",
   "execution_count": 11,
   "metadata": {},
   "outputs": [
    {
     "name": "stdout",
     "output_type": "stream",
     "text": [
      "\n",
      "X_train shape: (791852, 230)\n",
      "Y_train shape: (791852, 1)\n",
      "\n",
      "X_dev shape: (29826, 230)\n",
      "Y_dev shape: (29826, 1)\n",
      "\n",
      "\n",
      "X_test shape: (7394, 230)\n",
      "Y_test shape: (7394, 1)\n",
      "\n"
     ]
    }
   ],
   "source": [
    "# Train\n",
    "X = x_all_data[:, train_mask].T\n",
    "Y = y_all_data[train_mask].reshape(-1, 1)\n",
    "\n",
    "# Dev\n",
    "X_dev = x_all_data[:, dev_mask].T\n",
    "Y_dev = y_all_data[dev_mask].reshape(-1, 1)\n",
    "\n",
    "# Test\n",
    "X_test = x_all_data[:, test_mask].T\n",
    "Y_test = y_all_data[test_mask].reshape(-1, 1)\n",
    "\n",
    "print(\n",
    "    f\"\"\"\n",
    "X_train shape: {X.shape}\n",
    "Y_train shape: {Y.shape}\n",
    "\n",
    "X_dev shape: {X_dev.shape}\n",
    "Y_dev shape: {Y_dev.shape}\\n\n",
    "\n",
    "X_test shape: {X_test.shape}\n",
    "Y_test shape: {Y_test.shape}\n",
    "\"\"\"\n",
    ")"
   ]
  },
  {
   "cell_type": "markdown",
   "metadata": {},
   "source": [
    "## Sequential-style FCDNN"
   ]
  },
  {
   "cell_type": "markdown",
   "metadata": {},
   "source": [
    "### Function to remove layer that is causing issues:"
   ]
  },
  {
   "cell_type": "code",
   "execution_count": 12,
   "metadata": {},
   "outputs": [],
   "source": [
    "# Load the original JSON data\n",
    "def json_remove_input_layer(json_file):\n",
    "    # Read json\n",
    "    with open(json_file, \"r\") as file:\n",
    "        data = json.load(file)\n",
    "        file.close()\n",
    "    # Check if it has the problem and delete\n",
    "    if (\n",
    "        data[\"config\"][\"layers\"]\n",
    "        and data[\"config\"][\"layers\"][0][\"class_name\"] == \"InputLayer\"\n",
    "    ):\n",
    "        del data[\"config\"][\"layers\"][0]\n",
    "        print(\"deleted 'InputLayer' layer config\")\n",
    "        # Save the modified data back to a new JSON file\n",
    "        with open(json_file, \"w\") as file:\n",
    "            json.dump(data, file, indent=4)\n",
    "            file.close()\n",
    "    else:\n",
    "        print(\"Model does not contain 'InputLayer' in layer config\")\n",
    "\n",
    "\n",
    "# Remove the first layer from the 'layers' list within the 'config' key"
   ]
  },
  {
   "cell_type": "markdown",
   "metadata": {},
   "source": [
    "### Function to make Keras model"
   ]
  },
  {
   "cell_type": "code",
   "execution_count": 13,
   "metadata": {},
   "outputs": [],
   "source": [
    "# Make this a function to get a cleaner code:\n",
    "def make_keras_model(X):\n",
    "    keras_model = Sequential()\n",
    "    keras_model.add(\n",
    "        Dense(\n",
    "            200,\n",
    "            activation=\"relu\",\n",
    "            name=\"1\",\n",
    "            input_dim=X.shape[1],\n",
    "            kernel_initializer=GlorotUniform(),\n",
    "        )\n",
    "    )\n",
    "    keras_model.add(Dropout(0.15))\n",
    "    keras_model.add(\n",
    "        Dense(100, activation=\"relu\", name=\"2\", kernel_initializer=GlorotUniform())\n",
    "    )\n",
    "    keras_model.add(Dropout(0.15))\n",
    "    keras_model.add(\n",
    "        Dense(50, activation=\"relu\", name=\"3\", kernel_initializer=GlorotUniform())\n",
    "    )\n",
    "    keras_model.add(\n",
    "        Dense(\n",
    "            1, activation=\"sigmoid\", name=\"Output\", kernel_initializer=GlorotUniform()\n",
    "        )\n",
    "    )\n",
    "    keras_model.compile(\n",
    "        optimizer=Adam(learning_rate=0.0001),\n",
    "        loss=\"binary_crossentropy\",\n",
    "        metrics=[\"accuracy\"],\n",
    "    )\n",
    "    return keras_model"
   ]
  },
  {
   "cell_type": "markdown",
   "metadata": {},
   "source": [
    "### Train Model"
   ]
  },
  {
   "cell_type": "code",
   "execution_count": 22,
   "metadata": {},
   "outputs": [
    {
     "name": "stdout",
     "output_type": "stream",
     "text": [
      "  1/933 [..............................] - ETA: 10s - loss: 0.2552 - accuracy: 0.9688"
     ]
    },
    {
     "name": "stdout",
     "output_type": "stream",
     "text": [
      "933/933 [==============================] - 1s 529us/step - loss: 0.4620 - accuracy: 0.7863\n",
      "deleted 'InputLayer' layer config\n"
     ]
    }
   ],
   "source": [
    "clean_data_model = make_keras_model(X)\n",
    "history = clean_data_model.fit(x=X, y=Y, batch_size=1024, epochs=1000)\n",
    "# serialize model to JSON\n",
    "model_json = clean_data_model.to_json()\n",
    "with open(keras_model_json, \"w\") as json_file:\n",
    "    json_file.write(model_json)\n",
    "    json_file.close()\n",
    "# Load back for formatting\n",
    "json_remove_input_layer(keras_model_json)\n",
    "# serialize weights to HDF5\n",
    "clean_data_model.save_weights(keras_model_weights)\n"
   ]
  },
  {
   "cell_type": "code",
   "execution_count": 23,
   "metadata": {},
   "outputs": [],
   "source": [
    "def test_and_auc(\n",
    "    keras_model,\n",
    "    X_dev,\n",
    "    Y_dev,\n",
    "    save_prob: bool = False,\n",
    "    prin_auc_plot: bool = True,\n",
    "    sample_name=\"New Model\",\n",
    "):\n",
    "    sample_file_name = sample_name.lower().replace(\" \", \"_\")\n",
    "    out_file = f\"./roc_curve_{sample_file_name}.png\"\n",
    "    ProbableValues = keras_model.predict(X_dev)\n",
    "    Obs = pd.Series(Y_dev.flatten().astype(int))\n",
    "    Pred = pd.Series(ProbableValues.round().flatten().astype(int))\n",
    "    Prob = pd.Series(ProbableValues.flatten().astype(float))\n",
    "    Side2Prob = pd.concat([Obs, Pred, Prob], axis=1)\n",
    "    Side2Prob.columns = [\"Observed\", \"Predicted\", \"Probability\"]\n",
    "    if save_prob:\n",
    "        Side2Prob.to_feather(\n",
    "            f\"./Probabilities_Keras_{sample_file_name}_e60_L200_100_50_1.feather\"\n",
    "        )\n",
    "        Side2Prob.to_csv(\n",
    "            f\"./Probabilities_Keras_{sample_file_name}_e60_L200_100_50_1.csv\",\n",
    "            index=False,\n",
    "        )\n",
    "\n",
    "    fpr, tpr, _ = roc_curve(Obs, Prob)\n",
    "    auc_score = roc_auc_score(Obs, Prob)\n",
    "\n",
    "    print(\n",
    "        \"\"\"\n",
    "Accuracy:    %.4f\n",
    "Precision:   %.4f\n",
    "Recall:      %.4f\n",
    "F1 score:    %.4f\n",
    "AUC Score:   %.4f\n",
    "\"\"\"\n",
    "        % (\n",
    "            preds[1],\n",
    "            precision_score(Obs, Pred),\n",
    "            recall_score(Obs, Pred),\n",
    "            f1_score(Obs, Pred),\n",
    "            auc_score,\n",
    "        )\n",
    "    )\n",
    "    if prin_auc_plot:\n",
    "        font_name = \"Nimbus Roman\"\n",
    "        # downsample points to plot if too large\n",
    "        num_points = min(len(tpr), 1000)\n",
    "        fpr_interp = np.linspace(0, 1, num_points)\n",
    "        tpr_interp = np.interp(fpr_interp, fpr, tpr)\n",
    "        plt.rcParams[\"font.family\"] = \"Nimbus Roman\"\n",
    "\n",
    "        # Setting the aesthetic style of the plots\n",
    "        sns.set_style(\"whitegrid\")\n",
    "\n",
    "        # Create the plot with Seaborn\n",
    "        plt.figure(figsize=(8, 6))\n",
    "        sns.lineplot(\n",
    "            x=fpr_interp,\n",
    "            y=tpr_interp,\n",
    "            label=f\"Model (AUC = {auc_score:.2f})\",\n",
    "            linewidth=2,\n",
    "        )\n",
    "        ax = sns.lineplot(\n",
    "            x=[0, 1],\n",
    "            y=[0, 1],\n",
    "            linestyle=\"--\",\n",
    "            label=\"No learning\",\n",
    "            color=\"tab:gray\",\n",
    "        )\n",
    "\n",
    "        # Customizing the plot to make it more suitable for publication\n",
    "        title_fontsize = 16 * 1.3  # 2x the base size for labels\n",
    "        label_fontsize = 16 * 1.5  # 2x the base size for labels\n",
    "        tick_fontsize = 12 * 2  # 2x the base size for ticks\n",
    "        ax.set_title(\n",
    "            f\"ROC Curve: {sample_name}\", fontsize=title_fontsize, fontname=font_name\n",
    "        )\n",
    "        ax.set_xlabel(\n",
    "            \"False Positive Rate (FPR)\", fontsize=label_fontsize, fontname=font_name\n",
    "        )\n",
    "        ax.set_ylabel(\n",
    "            \"True Positive Rate (TPR)\", fontsize=label_fontsize, fontname=font_name\n",
    "        )\n",
    "        plt.xticks(fontsize=tick_fontsize, fontname=font_name)\n",
    "        plt.yticks(fontsize=tick_fontsize, fontname=font_name)\n",
    "        plt.legend(loc=\"best\", fontsize=14)\n",
    "        plt.tight_layout()\n",
    "        # Save the plot\n",
    "        plt.savefig(out_file, dpi=300)\n",
    "        # Show the plot\n",
    "        plt.show()\n",
    "\n",
    "    return Side2Prob"
   ]
  },
  {
   "cell_type": "markdown",
   "metadata": {},
   "source": [
    "### Get AUC metrics per sample"
   ]
  },
  {
   "cell_type": "code",
   "execution_count": 34,
   "metadata": {},
   "outputs": [],
   "source": [
    "def get_auc_f1(\n",
    "    keras_model,\n",
    "    X_test,\n",
    "    Y_test,\n",
    "):\n",
    "\n",
    "    ProbableValues = keras_model.predict(X_test)\n",
    "    Obs = pd.Series(Y_test.flatten().astype(int))\n",
    "    Prob = pd.Series(ProbableValues.flatten().astype(float))\n",
    "    Pred = pd.Series(ProbableValues.round().flatten().astype(int))\n",
    "    auc_score = round(roc_auc_score(Obs, Prob), 4)\n",
    "    f1 = round(f1_score(Obs, Pred), 4)\n",
    "\n",
    "    return auc_score, f1"
   ]
  },
  {
   "cell_type": "code",
   "execution_count": 13,
   "metadata": {},
   "outputs": [
    {
     "name": "stderr",
     "output_type": "stream",
     "text": [
      "2024-02-28 22:15:28.755800: I tensorflow/core/platform/cpu_feature_guard.cc:142] This TensorFlow binary is optimized with oneAPI Deep Neural Network Library (oneDNN) to use the following CPU instructions in performance-critical operations:  SSE4.1 SSE4.2 AVX AVX2 AVX512F FMA\n",
      "To enable them in other operations, rebuild TensorFlow with the appropriate compiler flags.\n"
     ]
    }
   ],
   "source": [
    "data_dir = \"/mnt/BioAdHoc/Groups/RaoLab/Edahi/Projects/09.TimeCourse5hmC/ForFerhatGit/FCDNN/data/C2B\"\n",
    "\n",
    "sample_names = pd.read_csv(\n",
    "    \"/mnt/BioAdHoc/Groups/RaoLab/Edahi/Projects/09.TimeCourse5hmC/ForFerhatGit/FCDNN/filtered_files_surnames.csv\",\n",
    "    header=None,\n",
    ")[7].tolist()\n",
    "\n",
    "# output results variable\n",
    "auc_results = []\n",
    "\n",
    "# Load trained model:\n",
    "# keras_model_json\n",
    "# serialize weights to HDF5\n",
    "# keras_model_weights\n",
    "\n",
    "keras_model = model_from_json(open(keras_model_json).read())\n",
    "keras_model.load_weights(keras_model_weights)\n",
    "keras_model.compile(\n",
    "    optimizer=Adam(learning_rate=0.0001),\n",
    "    loss=\"binary_crossentropy\",\n",
    "    metrics=[\"accuracy\"],\n",
    ")\n",
    "\n",
    "chr_test_mask = m_all_data.chr.isin([excluded_chrom[1]])\n"
   ]
  },
  {
   "cell_type": "code",
   "execution_count": 37,
   "metadata": {},
   "outputs": [
    {
     "name": "stdout",
     "output_type": "stream",
     "text": [
      "mm10_WholeBrain_Rep1\n",
      "mm10_iNK_T_Cell_Rep2\n",
      "mm10_E14_mESC_Rep3\n",
      "mm10_E13_Frontal_Cortex_Rep1\n",
      "mm10_V6.5_mESC_Rep10\n",
      "mm10_Naive_T_Cell_Rep2\n",
      "mm10_CD4_SinglePositive_Tcell_Rep1\n",
      "mm10_MEF_Rep3\n",
      "mm10_Hematopoietic_Stem_Cells_Rep1\n",
      "mm10_Regulatory_T_Cell_Rep2\n"
     ]
    }
   ],
   "source": [
    "auc_results = []\n",
    "f1_results = []\n",
    "for i, sample in enumerate(excluded_samples):\n",
    "    print(sample)\n",
    "    excluded_sample_mask = m_all_data.sample_name.isin([sample])\n",
    "    test_mask = excluded_sample_mask & chr_test_mask\n",
    "    X_test = x_all_data[:, test_mask].T\n",
    "    Y_test = y_all_data[test_mask].reshape(-1, 1)\n",
    "    auc, f1 = get_auc_f1(keras_model, X_test, Y_test)\n",
    "    auc_results.append(auc)\n",
    "    f1_results.append(f1)"
   ]
  },
  {
   "cell_type": "code",
   "execution_count": 33,
   "metadata": {},
   "outputs": [
    {
     "name": "stdout",
     "output_type": "stream",
     "text": [
      "mm10_WholeBrain_Rep1 0.8198\n",
      "mm10_iNK_T_Cell_Rep2 0.8693\n",
      "mm10_E14_mESC_Rep3 0.8245\n",
      "mm10_E13_Frontal_Cortex_Rep1 0.9236\n",
      "mm10_V6.5_mESC_Rep10 0.8446\n",
      "mm10_Naive_T_Cell_Rep2 0.8629\n",
      "mm10_CD4_SinglePositive_Tcell_Rep1 0.8465\n",
      "mm10_MEF_Rep3 0.8409\n",
      "mm10_Hematopoietic_Stem_Cells_Rep1 0.8316\n",
      "mm10_Regulatory_T_Cell_Rep2 0.8904\n"
     ]
    }
   ],
   "source": [
    "for i, j in zip(excluded_samples, map(str, auc_results)):\n",
    "    print(i, j)"
   ]
  },
  {
   "cell_type": "code",
   "execution_count": 38,
   "metadata": {},
   "outputs": [
    {
     "name": "stdout",
     "output_type": "stream",
     "text": [
      "mm10_WholeBrain_Rep1 0.7318\n",
      "mm10_iNK_T_Cell_Rep2 0.786\n",
      "mm10_E14_mESC_Rep3 0.7207\n",
      "mm10_E13_Frontal_Cortex_Rep1 0.8363\n",
      "mm10_V6.5_mESC_Rep10 0.7831\n",
      "mm10_Naive_T_Cell_Rep2 0.8071\n",
      "mm10_CD4_SinglePositive_Tcell_Rep1 0.747\n",
      "mm10_MEF_Rep3 0.7497\n",
      "mm10_Hematopoietic_Stem_Cells_Rep1 0.7675\n",
      "mm10_Regulatory_T_Cell_Rep2 0.8238\n"
     ]
    }
   ],
   "source": [
    "for i, j in zip(excluded_samples, map(str, f1_results)):\n",
    "    print(i, j)"
   ]
  },
  {
   "cell_type": "code",
   "execution_count": 27,
   "metadata": {},
   "outputs": [
    {
     "data": {
      "text/html": [
       "<div>\n",
       "<style scoped>\n",
       "    .dataframe tbody tr th:only-of-type {\n",
       "        vertical-align: middle;\n",
       "    }\n",
       "\n",
       "    .dataframe tbody tr th {\n",
       "        vertical-align: top;\n",
       "    }\n",
       "\n",
       "    .dataframe thead th {\n",
       "        text-align: right;\n",
       "    }\n",
       "</style>\n",
       "<table border=\"1\" class=\"dataframe\">\n",
       "  <thead>\n",
       "    <tr style=\"text-align: right;\">\n",
       "      <th></th>\n",
       "      <th>0</th>\n",
       "    </tr>\n",
       "  </thead>\n",
       "  <tbody>\n",
       "    <tr>\n",
       "      <th>count</th>\n",
       "      <td>10.0000</td>\n",
       "    </tr>\n",
       "    <tr>\n",
       "      <th>mean</th>\n",
       "      <td>0.8554</td>\n",
       "    </tr>\n",
       "    <tr>\n",
       "      <th>std</th>\n",
       "      <td>0.0322</td>\n",
       "    </tr>\n",
       "    <tr>\n",
       "      <th>min</th>\n",
       "      <td>0.8198</td>\n",
       "    </tr>\n",
       "    <tr>\n",
       "      <th>25%</th>\n",
       "      <td>0.8339</td>\n",
       "    </tr>\n",
       "    <tr>\n",
       "      <th>50%</th>\n",
       "      <td>0.8456</td>\n",
       "    </tr>\n",
       "    <tr>\n",
       "      <th>75%</th>\n",
       "      <td>0.8677</td>\n",
       "    </tr>\n",
       "    <tr>\n",
       "      <th>max</th>\n",
       "      <td>0.9236</td>\n",
       "    </tr>\n",
       "  </tbody>\n",
       "</table>\n",
       "</div>"
      ],
      "text/plain": [
       "             0\n",
       "count  10.0000\n",
       "mean    0.8554\n",
       "std     0.0322\n",
       "min     0.8198\n",
       "25%     0.8339\n",
       "50%     0.8456\n",
       "75%     0.8677\n",
       "max     0.9236"
      ]
     },
     "execution_count": 27,
     "metadata": {},
     "output_type": "execute_result"
    }
   ],
   "source": [
    "round(pd.DataFrame(auc_results).describe(), 4)"
   ]
  },
  {
   "cell_type": "code",
   "execution_count": 39,
   "metadata": {},
   "outputs": [
    {
     "data": {
      "text/html": [
       "<div>\n",
       "<style scoped>\n",
       "    .dataframe tbody tr th:only-of-type {\n",
       "        vertical-align: middle;\n",
       "    }\n",
       "\n",
       "    .dataframe tbody tr th {\n",
       "        vertical-align: top;\n",
       "    }\n",
       "\n",
       "    .dataframe thead th {\n",
       "        text-align: right;\n",
       "    }\n",
       "</style>\n",
       "<table border=\"1\" class=\"dataframe\">\n",
       "  <thead>\n",
       "    <tr style=\"text-align: right;\">\n",
       "      <th></th>\n",
       "      <th>0</th>\n",
       "    </tr>\n",
       "  </thead>\n",
       "  <tbody>\n",
       "    <tr>\n",
       "      <th>count</th>\n",
       "      <td>10.0000</td>\n",
       "    </tr>\n",
       "    <tr>\n",
       "      <th>mean</th>\n",
       "      <td>0.7753</td>\n",
       "    </tr>\n",
       "    <tr>\n",
       "      <th>std</th>\n",
       "      <td>0.0389</td>\n",
       "    </tr>\n",
       "    <tr>\n",
       "      <th>min</th>\n",
       "      <td>0.7207</td>\n",
       "    </tr>\n",
       "    <tr>\n",
       "      <th>25%</th>\n",
       "      <td>0.7477</td>\n",
       "    </tr>\n",
       "    <tr>\n",
       "      <th>50%</th>\n",
       "      <td>0.7753</td>\n",
       "    </tr>\n",
       "    <tr>\n",
       "      <th>75%</th>\n",
       "      <td>0.8018</td>\n",
       "    </tr>\n",
       "    <tr>\n",
       "      <th>max</th>\n",
       "      <td>0.8363</td>\n",
       "    </tr>\n",
       "  </tbody>\n",
       "</table>\n",
       "</div>"
      ],
      "text/plain": [
       "             0\n",
       "count  10.0000\n",
       "mean    0.7753\n",
       "std     0.0389\n",
       "min     0.7207\n",
       "25%     0.7477\n",
       "50%     0.7753\n",
       "75%     0.8018\n",
       "max     0.8363"
      ]
     },
     "execution_count": 39,
     "metadata": {},
     "output_type": "execute_result"
    }
   ],
   "source": [
    "round(pd.DataFrame(f1_results).describe(), 4)"
   ]
  },
  {
   "cell_type": "markdown",
   "metadata": {},
   "source": [
    "### Plot metrics"
   ]
  },
  {
   "cell_type": "code",
   "execution_count": 24,
   "metadata": {
    "scrolled": true
   },
   "outputs": [
    {
     "name": "stdout",
     "output_type": "stream",
     "text": [
      "\n",
      "Accuracy:    0.7863\n",
      "Precision:   0.7813\n",
      "Recall:      0.7518\n",
      "F1 score:    0.7663\n",
      "AUC Score:   0.8631\n",
      "\n"
     ]
    },
    {
     "data": {
      "image/png": "[encoded data removed]",
      "text/plain": [
       "<Figure size 800x600 with 1 Axes>"
      ]
     },
     "metadata": {},
     "output_type": "display_data"
    }
   ],
   "source": [
    "if train:\n",
    "    _ = test_and_auc(clean_data_model, X_dev, Y_dev, sample_name=\"Generalizable Model\")\n",
    "# Accuracy:    0.7927\n",
    "# Precision:   0.8175\n",
    "# Recall:      0.7884\n",
    "# F1 score:    0.8027\n",
    "# AUC Score:   0.8703"
   ]
  },
  {
   "cell_type": "markdown",
   "metadata": {},
   "source": [
    "## Test Loading model"
   ]
  },
  {
   "cell_type": "code",
   "execution_count": 25,
   "metadata": {
    "scrolled": true
   },
   "outputs": [
    {
     "name": "stdout",
     "output_type": "stream",
     "text": [
      "\n",
      "Accuracy:    0.7863\n",
      "Precision:   0.7813\n",
      "Recall:      0.7518\n",
      "F1 score:    0.7663\n",
      "AUC Score:   0.8631\n",
      "\n"
     ]
    },
    {
     "data": {
      "image/png": "[encoded data removed]",
      "text/plain": [
       "<Figure size 800x600 with 1 Axes>"
      ]
     },
     "metadata": {},
     "output_type": "display_data"
    }
   ],
   "source": [
    "# load the keras model\n",
    "keras_model = model_from_json(open(keras_model_json).read())\n",
    "keras_model.load_weights(keras_model_weights)\n",
    "keras_model.compile(\n",
    "    optimizer=Adam(learning_rate=0.0001),\n",
    "    loss=\"binary_crossentropy\",\n",
    "    metrics=[\"accuracy\"],\n",
    ")\n",
    "Side2Prob = test_and_auc(\n",
    "    keras_model,\n",
    "    X_dev,\n",
    "    Y_dev,\n",
    "    prin_auc_plot=True,\n",
    "    save_prob=True,\n",
    "    sample_name=\"Generalizable Model\",\n",
    ")"
   ]
  },
  {
   "cell_type": "code",
   "execution_count": 35,
   "metadata": {},
   "outputs": [],
   "source": [
    "Side2Prob.to_csv(\n",
    "    f\"./Probabilities_Keras_CleanSamples_e60_L200_100_50_1.csv\", index=False\n",
    ")"
   ]
  },
  {
   "cell_type": "markdown",
   "metadata": {},
   "source": [
    "## Obtain the value that generates a neutral response"
   ]
  },
  {
   "cell_type": "code",
   "execution_count": 36,
   "metadata": {},
   "outputs": [
    {
     "name": "stdout",
     "output_type": "stream",
     "text": [
      "Neutral Reference: 3.8600\n",
      "Sigma: 0.4997701048851013\n"
     ]
    }
   ],
   "source": [
    "# Initialize variables\n",
    "min_diff = float(\"inf\")\n",
    "neutral_value = 0\n",
    "\n",
    "# Prepare the entire range of input values\n",
    "input_values = np.arange(-10, 10, 0.01)\n",
    "input_array = np.full(\n",
    "    (input_values.size, 230), input_values.reshape(-1, 1), dtype=np.float32\n",
    ")\n",
    "\n",
    "# Predict for all input values in a single pass\n",
    "sigma_values = keras_model.predict(input_array, batch_size=200).flatten()\n",
    "diffs = np.abs(sigma_values - 0.5)\n",
    "\n",
    "# Find the value that produces the sigma closest to 0.5\n",
    "min_diff_idx = np.argmin(diffs)\n",
    "min_diff = diffs[min_diff_idx]\n",
    "neutral_value = input_values[min_diff_idx]\n",
    "\n",
    "# Predict using the neutral value found\n",
    "sigma_value = float(\n",
    "    keras_model.predict(np.full((1, 230), neutral_value), batch_size=200)\n",
    ")\n",
    "\n",
    "# Output results\n",
    "print(f\"Neutral Reference: {neutral_value:.4f}\\nSigma: {sigma_value}\")\n",
    "\n",
    "# Prepare the neutral reference input array for further use\n",
    "NeuRef = np.full((1, 230), neutral_value, dtype=np.float32)"
   ]
  },
  {
   "cell_type": "markdown",
   "metadata": {},
   "source": [
    "# Print packages used"
   ]
  },
  {
   "cell_type": "code",
   "execution_count": 37,
   "metadata": {},
   "outputs": [
    {
     "name": "stdout",
     "output_type": "stream",
     "text": [
      "setuptools: 69.0.3\n",
      "seaborn: 0.12.2\n",
      "black: 24.1.1\n",
      "keras_preprocessing: 1.1.2\n",
      "executing: 2.0.1\n",
      "prompt_toolkit: 3.0.42\n",
      "requests: 2.31.0\n",
      "matplotlib_inline: 0.1.6\n",
      "flatbuffers: 1.12\n",
      "idna: 3.6\n",
      "termcolor: 2.4.0\n",
      "stack_data: 0.6.2\n",
      "ptyprocess: 0.7.0\n",
      "jupyter_core: 5.7.1\n",
      "opt_einsum: 3.3.0\n",
      "pickleshare: 0.7.5\n",
      "six: 1.16.0\n",
      "tensorboard: 2.4.1\n",
      "pyparsing: 3.1.1\n",
      "pytz: 2024.1\n",
      "scipy: 1.9.3\n",
      "importlib_metadata: 7.0.1\n",
      "traitlets: 5.14.1\n",
      "urllib3: 2.2.0\n",
      "parso: 0.8.3\n",
      "IPython: 8.12.2\n",
      "jupyter_client: 8.6.0\n",
      "joblib: 1.3.2\n",
      "zipp: 3.17.0\n",
      "keras: 2.4.3\n",
      "certifi: 2024.2.2\n",
      "cffi: 1.16.0\n",
      "psutil: 5.9.8\n",
      "packaging: 23.2\n",
      "jedi: 0.19.1\n",
      "tomli: 2.0.1\n",
      "pure_eval: 0.2.2\n",
      "pygments: 2.17.2\n",
      "brotli: 1.1.0\n",
      "pandas: 1.3.5\n",
      "cycler: 0.12.1\n",
      "pathspec: 0.12.1\n",
      "decorator: 5.1.1\n",
      "click: 8.1.7\n",
      "tensorflow: 2.4.0\n",
      "pexpect: 4.9.0\n",
      "tornado: 6.4\n",
      "backcall: 0.2.0\n",
      "asttokens: 2.4.1\n",
      "debugpy: 1.8.1\n",
      "typing_extensions: 4.9.0\n",
      "threadpoolctl: 3.2.0\n",
      "pyarrow: 3.0.0\n",
      "wrapt: 1.16.0\n",
      "platformdirs: 4.2.0\n",
      "mypy_extensions: 1.0.0\n",
      "charset_normalizer: 3.3.2\n",
      "h5py: 2.10.0\n",
      "kiwisolver: 1.4.5\n",
      "ipykernel: 6.28.0\n",
      "comm: 0.2.1\n",
      "wcwidth: 0.2.13\n",
      "numpy: 1.19.1\n",
      "astunparse: 1.6.3\n",
      "gast: 0.3.3\n",
      "matplotlib: 3.5.1\n"
     ]
    }
   ],
   "source": [
    "def get_imported_packages_with_versions():\n",
    "    imported_packages = set(\n",
    "        [module.split(\".\")[0] for module in sys.modules.keys() if module.split(\".\")[0]]\n",
    "    )\n",
    "    imported_packages_with_versions = {}\n",
    "\n",
    "    for pkg in imported_packages:\n",
    "        try:\n",
    "            version = pkg_resources.get_distribution(pkg).version\n",
    "            imported_packages_with_versions[pkg] = version\n",
    "        except (\n",
    "            pkg_resources.DistributionNotFound,\n",
    "            pkg_resources.ExtractionError,\n",
    "            pkg_resources.VersionConflict,\n",
    "            Exception,\n",
    "        ):\n",
    "            # Skip packages that cause issues\n",
    "            pass\n",
    "\n",
    "    return imported_packages_with_versions\n",
    "\n",
    "\n",
    "imported_packages_with_versions = get_imported_packages_with_versions()\n",
    "\n",
    "# Print the package names and their versions\n",
    "for pkg, version in imported_packages_with_versions.items():\n",
    "    print(f\"{pkg}: {version}\")"
   ]
  },
  {
   "cell_type": "code",
   "execution_count": 38,
   "metadata": {},
   "outputs": [
    {
     "name": "stdout",
     "output_type": "stream",
     "text": [
      "Model does not contain 'InputLayer' in layer config\n"
     ]
    }
   ],
   "source": [
    "json_remove_input_layer(\"./clean_samples_model_mac.json\")"
   ]
  }
 ],
 "metadata": {
  "kernelspec": {
   "display_name": "Python 3",
   "language": "python",
   "name": "python3"
  },
  "language_info": {
   "codemirror_mode": {
    "name": "ipython",
    "version": 3
   },
   "file_extension": ".py",
   "mimetype": "text/x-python",
   "name": "python",
   "nbconvert_exporter": "python",
   "pygments_lexer": "ipython3",
   "version": "3.8.18"
  }
 },
 "nbformat": 4,
 "nbformat_minor": 2
}
